{
 "cells": [
  {
   "cell_type": "code",
   "execution_count": 2,
   "id": "ec07af78-eac0-455d-9d6c-5cf379abf85a",
   "metadata": {},
   "outputs": [],
   "source": [
    "import matplotlib.pyplot as plt\n",
    "import numpy as np"
   ]
  },
  {
   "cell_type": "code",
   "execution_count": 5,
   "id": "c441a27d-ebc7-4a65-a37c-832ea9348ed8",
   "metadata": {},
   "outputs": [],
   "source": [
    "def cdf(x):\n",
    "    if x < -1:\n",
    "        return 0\n",
    "    if -1 <= x and x <1:\n",
    "        return (x+2) / 4\n",
    "    if 1 <= x:\n",
    "        return 1"
   ]
  },
  {
   "cell_type": "code",
   "execution_count": 8,
   "id": "2f62e081-7b9f-4e63-8e25-1ad40a266f59",
   "metadata": {},
   "outputs": [],
   "source": [
    "x_values = np.linspace(-2, 2, 10000)\n",
    "y_values = [cdf(x) for x in x_values]"
   ]
  },
  {
   "cell_type": "code",
   "execution_count": 10,
   "id": "8572ab01-2cc3-4690-a6a7-b1fbc3c289b3",
   "metadata": {},
   "outputs": [
    {
     "data": {
      "text/plain": [
       "<matplotlib.legend.Legend at 0x1a2bcd81640>"
      ]
     },
     "execution_count": 10,
     "metadata": {},
     "output_type": "execute_result"
    },
    {
     "data": {
      "image/png": "[encoded data removed]",
      "text/plain": [
       "<Figure size 432x288 with 1 Axes>"
      ]
     },
     "metadata": {
      "needs_background": "light"
     },
     "output_type": "display_data"
    }
   ],
   "source": [
    "fig, ax = plt.subplots()\n",
    "\n",
    "ax.plot(x_values, y_values, label='cdf(x)')\n",
    "ax.legend()"
   ]
  }
 ],
 "metadata": {
  "kernelspec": {
   "display_name": "Python 3 (ipykernel)",
   "language": "python",
   "name": "python3"
  },
  "language_info": {
   "codemirror_mode": {
    "name": "ipython",
    "version": 3
   },
   "file_extension": ".py",
   "mimetype": "text/x-python",
   "name": "python",
   "nbconvert_exporter": "python",
   "pygments_lexer": "ipython3",
   "version": "3.9.12"
  }
 },
 "nbformat": 4,
 "nbformat_minor": 5
}
