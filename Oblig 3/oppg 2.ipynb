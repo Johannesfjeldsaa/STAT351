{
 "cells": [
  {
   "cell_type": "code",
   "execution_count": 1,
   "metadata": {},
   "outputs": [],
   "source": [
    "import pandas as pd\n"
   ]
  },
  {
   "cell_type": "markdown",
   "metadata": {},
   "source": [
    "      c)"
   ]
  },
  {
   "cell_type": "code",
   "execution_count": 2,
   "metadata": {},
   "outputs": [],
   "source": [
    "data = [{'y': -1.15, 'u': -1, 'v': -1},\n",
    "        {'y': -0.05, 'u': 1, 'v': -1},\n",
    "        {'y': 0.15, 'u': -1, 'v': 1},\n",
    "        {'y': 1.05, 'u': 1, 'v': 1}]"
   ]
  },
  {
   "cell_type": "code",
   "execution_count": 3,
   "metadata": {},
   "outputs": [],
   "source": [
    "data = pd.DataFrame(data)"
   ]
  },
  {
   "cell_type": "code",
   "execution_count": 4,
   "metadata": {},
   "outputs": [],
   "source": [
    "beta_1 = sum(data['u'] * data['y']) / sum(data['u']**2)\n",
    "beta_2 = sum(data['v'] * data['y']) / sum(data['v']**2)"
   ]
  },
  {
   "cell_type": "code",
   "execution_count": 5,
   "metadata": {},
   "outputs": [
    {
     "name": "stdout",
     "output_type": "stream",
     "text": [
      "Beta_1 = 0.5 \n",
      "Beta_2 = 0.6\n"
     ]
    }
   ],
   "source": [
    "print(f'Beta_1 = {beta_1} \\n'\n",
    "      f'Beta_2 = {beta_2}')"
   ]
  }
 ],
 "metadata": {
  "kernelspec": {
   "display_name": "Python 3 (ipykernel)",
   "language": "python",
   "name": "python3"
  },
  "language_info": {
   "codemirror_mode": {
    "name": "ipython",
    "version": 3
   },
   "file_extension": ".py",
   "mimetype": "text/x-python",
   "name": "python",
   "nbconvert_exporter": "python",
   "pygments_lexer": "ipython3",
   "version": "3.9.12"
  }
 },
 "nbformat": 4,
 "nbformat_minor": 4
}
